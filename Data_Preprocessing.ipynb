{
 "cells": [
  {
   "cell_type": "code",
   "execution_count": 1,
   "id": "f324889c",
   "metadata": {},
   "outputs": [],
   "source": [
    "from sklearn.compose import ColumnTransformer\n",
    "from sklearn.preprocessing import OneHotEncoder,StandardScaler\n",
    "from sklearn.impute import SimpleImputer\n",
    "from sklearn.pipeline import Pipeline\n",
    "import pandas as pd\n",
    "import numpy as np"
   ]
  },
  {
   "cell_type": "code",
   "execution_count": 2,
   "id": "c44262aa",
   "metadata": {},
   "outputs": [],
   "source": [
    "def preprocess(df,target):\n",
    "    attribs =  []\n",
    "    strAttribs = []\n",
    "    for c in df.columns:\n",
    "        if c!=target:\n",
    "            dtype = df.loc[:,c].dtype\n",
    "            if dtype == object or dtype == pd.CategoricalDtype:\n",
    "                attribs.append(c)\n",
    "            elif dtype == pd.StringDtype:\n",
    "                strAttribs.append(c)\n",
    "    if strAttribs:\n",
    "        df.drop(strAttribs,axis=1,inplace=True)\n",
    "    corrs = list(df.corr()[target].sort_values(ascending=False)[1:4].index)\n",
    "    df[\"new1\"] = df[corrs[0]]+df[corrs[1]]\n",
    "    df[\"new2\"] = df[corrs[2]]+df[corrs[0]]\n",
    "    pipeline = Pipeline([\n",
    "    (\"imputer\",SimpleImputer(strategy=\"median\")),\n",
    "    (\"std_scler\", StandardScaler())\n",
    "    ])\n",
    "    otherAttribs=[]\n",
    "    for i in df.columns:\n",
    "        if i not in attribs and i!=target:\n",
    "            otherAttribs.append(i)\n",
    "    transformer = ColumnTransformer([\n",
    "    (\"attribs\",OneHotEncoder(),attribs),\n",
    "    (\"other\",pipeline,otherAttribs),\n",
    "    ])\n",
    "    encoder=OneHotEncoder()\n",
    "    try:\n",
    "        x = df.drop(target,axis=1)\n",
    "        X=transformer.fit_transform(x)\n",
    "        y=df[target].to_numpy() if target not in attribs else encoder.fit_transform(df[target])\n",
    "        return X,y\n",
    "    except:\n",
    "        print(\"ok\")"
   ]
  },
  {
   "cell_type": "code",
   "execution_count": null,
   "id": "91065552",
   "metadata": {},
   "outputs": [],
   "source": []
  }
 ],
 "metadata": {
  "kernelspec": {
   "display_name": "Python 3 (ipykernel)",
   "language": "python",
   "name": "python3"
  },
  "language_info": {
   "codemirror_mode": {
    "name": "ipython",
    "version": 3
   },
   "file_extension": ".py",
   "mimetype": "text/x-python",
   "name": "python",
   "nbconvert_exporter": "python",
   "pygments_lexer": "ipython3",
   "version": "3.10.4"
  }
 },
 "nbformat": 4,
 "nbformat_minor": 5
}
